{
 "cells": [
  {
   "cell_type": "code",
   "execution_count": 1,
   "metadata": {},
   "outputs": [],
   "source": [
    "import numpy as numpy\n",
    "import matplotlib.pyplot as plt\n",
    "import pandas as pd\n",
    "%matplotlib inline"
   ]
  },
  {
   "cell_type": "code",
   "execution_count": 3,
   "metadata": {},
   "outputs": [
    {
     "name": "stdout",
     "output_type": "stream",
     "text": [
      " 磁碟區 C 中的磁碟沒有標籤。\n",
      " 磁碟區序號:  FC73-B544\n",
      "\n",
      " C:\\Users\\User\\Desktop\\python\\第五章 pandas 數據分析 的目錄\n",
      "\n",
      "2020/09/21  下午 06:53    <DIR>          .\n",
      "2020/09/21  下午 06:53    <DIR>          ..\n",
      "2020/09/21  下午 06:51    <DIR>          .ipynb_checkpoints\n",
      "2020/09/18  上午 10:03            11,752 test.xlsx\n",
      "2020/09/21  下午 06:53             1,602 Untitled.ipynb\n",
      "               2 個檔案          13,354 位元組\n",
      "               3 個目錄  54,431,932,416 位元組可用\n"
     ]
    }
   ],
   "source": [
    "%ls"
   ]
  },
  {
   "cell_type": "code",
   "execution_count": 8,
   "metadata": {},
   "outputs": [],
   "source": [
    "df = pd.read_csv(\"data-1.csv\")"
   ]
  },
  {
   "cell_type": "code",
   "execution_count": 14,
   "metadata": {},
   "outputs": [
    {
     "data": {
      "text/html": [
       "<div>\n",
       "<style scoped>\n",
       "    .dataframe tbody tr th:only-of-type {\n",
       "        vertical-align: middle;\n",
       "    }\n",
       "\n",
       "    .dataframe tbody tr th {\n",
       "        vertical-align: top;\n",
       "    }\n",
       "\n",
       "    .dataframe thead th {\n",
       "        text-align: right;\n",
       "    }\n",
       "</style>\n",
       "<table border=\"1\" class=\"dataframe\">\n",
       "  <thead>\n",
       "    <tr style=\"text-align: right;\">\n",
       "      <th></th>\n",
       "      <th>學號</th>\n",
       "      <th>姓名</th>\n",
       "      <th>個人組別</th>\n",
       "      <th>第1組</th>\n",
       "      <th>第2組</th>\n",
       "      <th>第3組</th>\n",
       "      <th>第4組</th>\n",
       "      <th>第5組</th>\n",
       "      <th>第6組</th>\n",
       "      <th>第7組</th>\n",
       "    </tr>\n",
       "  </thead>\n",
       "  <tbody>\n",
       "    <tr>\n",
       "      <th>0</th>\n",
       "      <td>1410732001</td>\n",
       "      <td>江芊縈</td>\n",
       "      <td>第2組</td>\n",
       "      <td>5</td>\n",
       "      <td>6</td>\n",
       "      <td>10</td>\n",
       "      <td>7</td>\n",
       "      <td>7</td>\n",
       "      <td>5</td>\n",
       "      <td>9</td>\n",
       "    </tr>\n",
       "    <tr>\n",
       "      <th>1</th>\n",
       "      <td>1410732004</td>\n",
       "      <td>張珈榕</td>\n",
       "      <td>第11組</td>\n",
       "      <td>6</td>\n",
       "      <td>8</td>\n",
       "      <td>9</td>\n",
       "      <td>5</td>\n",
       "      <td>6</td>\n",
       "      <td>5</td>\n",
       "      <td>5</td>\n",
       "    </tr>\n",
       "    <tr>\n",
       "      <th>2</th>\n",
       "      <td>1410732005</td>\n",
       "      <td>陳亭汝</td>\n",
       "      <td>第11組</td>\n",
       "      <td>5</td>\n",
       "      <td>9</td>\n",
       "      <td>6</td>\n",
       "      <td>8</td>\n",
       "      <td>8</td>\n",
       "      <td>6</td>\n",
       "      <td>8</td>\n",
       "    </tr>\n",
       "    <tr>\n",
       "      <th>3</th>\n",
       "      <td>1410732006</td>\n",
       "      <td>詹雅婷</td>\n",
       "      <td>第11組</td>\n",
       "      <td>5</td>\n",
       "      <td>7</td>\n",
       "      <td>7</td>\n",
       "      <td>7</td>\n",
       "      <td>8</td>\n",
       "      <td>6</td>\n",
       "      <td>7</td>\n",
       "    </tr>\n",
       "    <tr>\n",
       "      <th>4</th>\n",
       "      <td>1410732007</td>\n",
       "      <td>羅予孺</td>\n",
       "      <td>第7組</td>\n",
       "      <td>6</td>\n",
       "      <td>7</td>\n",
       "      <td>7</td>\n",
       "      <td>7</td>\n",
       "      <td>7</td>\n",
       "      <td>6</td>\n",
       "      <td>10</td>\n",
       "    </tr>\n",
       "  </tbody>\n",
       "</table>\n",
       "</div>"
      ],
      "text/plain": [
       "           學號   姓名  個人組別  第1組  第2組  第3組  第4組  第5組  第6組  第7組\n",
       "0  1410732001  江芊縈   第2組    5    6   10    7    7    5    9\n",
       "1  1410732004  張珈榕  第11組    6    8    9    5    6    5    5\n",
       "2  1410732005  陳亭汝  第11組    5    9    6    8    8    6    8\n",
       "3  1410732006  詹雅婷  第11組    5    7    7    7    8    6    7\n",
       "4  1410732007  羅予孺   第7組    6    7    7    7    7    6   10"
      ]
     },
     "execution_count": 14,
     "metadata": {},
     "output_type": "execute_result"
    }
   ],
   "source": [
    "df.head()   \n",
    "#前五筆資料\n",
    "#前面數字為index"
   ]
  },
  {
   "cell_type": "code",
   "execution_count": 20,
   "metadata": {
    "scrolled": true
   },
   "outputs": [
    {
     "data": {
      "text/plain": [
       "0      5\n",
       "1      6\n",
       "2      5\n",
       "3      5\n",
       "4      6\n",
       "5      8\n",
       "6      7\n",
       "7      8\n",
       "8      6\n",
       "9      8\n",
       "10     8\n",
       "11     7\n",
       "12     9\n",
       "13     8\n",
       "14     8\n",
       "15     7\n",
       "16     7\n",
       "17     7\n",
       "18     5\n",
       "19     8\n",
       "20     8\n",
       "21     7\n",
       "22     8\n",
       "23     7\n",
       "24     9\n",
       "25    10\n",
       "26     7\n",
       "27     7\n",
       "28     1\n",
       "29     5\n",
       "30     6\n",
       "31     8\n",
       "32    10\n",
       "33     8\n",
       "34     7\n",
       "35     8\n",
       "36     7\n",
       "37     8\n",
       "38     8\n",
       "39     8\n",
       "40     7\n",
       "41     8\n",
       "42     5\n",
       "43     8\n",
       "44     7\n",
       "45     8\n",
       "46     6\n",
       "47     7\n",
       "48     7\n",
       "49     4\n",
       "50     8\n",
       "51     9\n",
       "52     9\n",
       "53     7\n",
       "54     8\n",
       "55     8\n",
       "56     7\n",
       "Name: 第1組, dtype: int64"
      ]
     },
     "execution_count": 20,
     "metadata": {},
     "output_type": "execute_result"
    }
   ],
   "source": [
    "df[\"第1組\"]"
   ]
  },
  {
   "cell_type": "code",
   "execution_count": 22,
   "metadata": {},
   "outputs": [
    {
     "data": {
      "text/plain": [
       "0      5\n",
       "1      6\n",
       "2      5\n",
       "3      5\n",
       "4      6\n",
       "5      8\n",
       "6      7\n",
       "7      8\n",
       "8      6\n",
       "9      8\n",
       "10     8\n",
       "11     7\n",
       "12     9\n",
       "13     8\n",
       "14     8\n",
       "15     7\n",
       "16     7\n",
       "17     7\n",
       "18     5\n",
       "19     8\n",
       "20     8\n",
       "21     7\n",
       "22     8\n",
       "23     7\n",
       "24     9\n",
       "25    10\n",
       "26     7\n",
       "27     7\n",
       "28     1\n",
       "29     5\n",
       "30     6\n",
       "31     8\n",
       "32    10\n",
       "33     8\n",
       "34     7\n",
       "35     8\n",
       "36     7\n",
       "37     8\n",
       "38     8\n",
       "39     8\n",
       "40     7\n",
       "41     8\n",
       "42     5\n",
       "43     8\n",
       "44     7\n",
       "45     8\n",
       "46     6\n",
       "47     7\n",
       "48     7\n",
       "49     4\n",
       "50     8\n",
       "51     9\n",
       "52     9\n",
       "53     7\n",
       "54     8\n",
       "55     8\n",
       "56     7\n",
       "Name: 第1組, dtype: int64"
      ]
     },
     "execution_count": 22,
     "metadata": {},
     "output_type": "execute_result"
    }
   ],
   "source": [
    "df.第1組"
   ]
  },
  {
   "cell_type": "code",
   "execution_count": 23,
   "metadata": {},
   "outputs": [],
   "source": [
    "one = df.第1組.values"
   ]
  },
  {
   "cell_type": "code",
   "execution_count": 25,
   "metadata": {},
   "outputs": [
    {
     "data": {
      "text/plain": [
       "<function ndarray.mean>"
      ]
     },
     "execution_count": 25,
     "metadata": {},
     "output_type": "execute_result"
    }
   ],
   "source": [
    "one.mean"
   ]
  },
  {
   "cell_type": "code",
   "execution_count": 27,
   "metadata": {},
   "outputs": [
    {
     "data": {
      "text/plain": [
       "7.157894736842105"
      ]
     },
     "execution_count": 27,
     "metadata": {},
     "output_type": "execute_result"
    }
   ],
   "source": [
    "one.mean()  #平均"
   ]
  },
  {
   "cell_type": "code",
   "execution_count": 29,
   "metadata": {},
   "outputs": [
    {
     "data": {
      "text/plain": [
       "1.4960705687949365"
      ]
     },
     "execution_count": 29,
     "metadata": {},
     "output_type": "execute_result"
    }
   ],
   "source": [
    "one.std()  #標準差"
   ]
  },
  {
   "cell_type": "code",
   "execution_count": 30,
   "metadata": {},
   "outputs": [
    {
     "data": {
      "text/plain": [
       "<matplotlib.axes._subplots.AxesSubplot at 0x1acb1049d88>"
      ]
     },
     "execution_count": 30,
     "metadata": {},
     "output_type": "execute_result"
    },
    {
     "data": {
      "image/png": "[encoded data removed]",
      "text/plain": [
       "<Figure size 432x288 with 1 Axes>"
      ]
     },
     "metadata": {
      "needs_background": "light"
     },
     "output_type": "display_data"
    }
   ],
   "source": [
    "df.第1組.plot()"
   ]
  },
  {
   "cell_type": "code",
   "execution_count": 35,
   "metadata": {},
   "outputs": [
    {
     "data": {
      "text/plain": [
       "<matplotlib.axes._subplots.AxesSubplot at 0x1acb1a186c8>"
      ]
     },
     "execution_count": 35,
     "metadata": {},
     "output_type": "execute_result"
    },
    {
     "data": {
      "image/png": "[encoded data removed]",
      "text/plain": [
       "<Figure size 432x288 with 1 Axes>"
      ]
     },
     "metadata": {
      "needs_background": "light"
     },
     "output_type": "display_data"
    }
   ],
   "source": [
    "df.第1組.hist(bins=20) #直方圖  bins 區間"
   ]
  },
  {
   "cell_type": "code",
   "execution_count": null,
   "metadata": {},
   "outputs": [],
   "source": []
  }
 ],
 "metadata": {
  "kernelspec": {
   "display_name": "Python 3",
   "language": "python",
   "name": "python3"
  },
  "language_info": {
   "codemirror_mode": {
    "name": "ipython",
    "version": 3
   },
   "file_extension": ".py",
   "mimetype": "text/x-python",
   "name": "python",
   "nbconvert_exporter": "python",
   "pygments_lexer": "ipython3",
   "version": "3.7.7"
  }
 },
 "nbformat": 4,
 "nbformat_minor": 4
}
