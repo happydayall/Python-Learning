{
 "cells": [
  {
   "cell_type": "markdown",
   "metadata": {},
   "source": [
    "# Ctrl + M + Y Code模式\n",
    "# Ctrl + M + M Markdown模式\n",
    "# P 全指令查詢\n",
    "## 1.shift + tab (簡短提示)\n",
    "##    ex. randint (輸入完randint後，按下shift+tab)\n",
    "## 2. 使用問號 (完整提示)\n",
    "##    ex. sin ?"
   ]
  },
  {
   "cell_type": "code",
   "execution_count": null,
   "metadata": {},
   "outputs": [],
   "source": []
  }
 ],
 "metadata": {
  "kernelspec": {
   "display_name": "Python 3",
   "language": "python",
   "name": "python3"
  },
  "language_info": {
   "codemirror_mode": {
    "name": "ipython",
    "version": 3
   },
   "file_extension": ".py",
   "mimetype": "text/x-python",
   "name": "python",
   "nbconvert_exporter": "python",
   "pygments_lexer": "ipython3",
   "version": "3.7.7"
  }
 },
 "nbformat": 4,
 "nbformat_minor": 4
}
