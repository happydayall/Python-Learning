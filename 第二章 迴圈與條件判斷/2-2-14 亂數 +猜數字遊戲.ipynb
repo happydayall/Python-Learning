{
 "cells": [
  {
   "cell_type": "code",
   "execution_count": 1,
   "metadata": {},
   "outputs": [
    {
     "name": "stdout",
     "output_type": "stream",
     "text": [
      "Populating the interactive namespace from numpy and matplotlib\n"
     ]
    }
   ],
   "source": [
    "%pylab inline"
   ]
  },
  {
   "cell_type": "code",
   "execution_count": 2,
   "metadata": {},
   "outputs": [
    {
     "data": {
      "text/plain": [
       "8"
      ]
     },
     "execution_count": 2,
     "metadata": {},
     "output_type": "execute_result"
    }
   ],
   "source": [
    "randint(3,20)  # 3到19"
   ]
  },
  {
   "cell_type": "code",
   "execution_count": 3,
   "metadata": {},
   "outputs": [
    {
     "name": "stdout",
     "output_type": "stream",
     "text": [
      "                    *\n",
      "20\n",
      "            *\n",
      "12\n",
      "                                        *\n",
      "40\n",
      "        *\n",
      "8\n",
      "           *\n",
      "11\n",
      "                                              *\n",
      "46\n",
      "                *\n",
      "16\n",
      "                           *\n",
      "27\n",
      "                *\n",
      "16\n",
      "                      *\n",
      "22\n"
     ]
    }
   ],
   "source": [
    "for i in range(10):\n",
    "    r = randint(0,51)\n",
    "    print(\" \"*r + \"*\")\n",
    "    print(r)"
   ]
  },
  {
   "cell_type": "code",
   "execution_count": 2,
   "metadata": {},
   "outputs": [
    {
     "name": "stdout",
     "output_type": "stream",
     "text": [
      "0\n",
      "0 到 6 猜猜看:0\n",
      "0\n",
      "答對了!\n",
      "是否繼續遊玩? (y/n)n\n",
      "No\n"
     ]
    }
   ],
   "source": [
    "boolean = 1\n",
    "while (boolean != 0):\n",
    "    r = randint(0 , 6)\n",
    "    for x in range(10):\n",
    "        \n",
    "        guest = input(\"0 到 6 猜猜看:\")\n",
    "        print(guest)\n",
    "        if (int(guest) == r):\n",
    "            print(\"答對了!\")\n",
    "            \n",
    "            comtiinue = input(\"是否繼續遊玩? (y/n)\")\n",
    "            if (comtiinue == \"y\") or (comtiinue == \"Y\"):\n",
    "                print(\"OK\")\n",
    "                break;\n",
    "            else:\n",
    "                print(\"No\")\n",
    "                boolean = 0\n",
    "                break;\n",
    "        elif (int(guest) > r):\n",
    "            print(\"太大了\")\n",
    "        elif (int(guest) < r):\n",
    "            print(\"太小了\")\n",
    "        else:\n",
    "            print(\"請輸入數字\")\n"
   ]
  },
  {
   "cell_type": "code",
   "execution_count": 10,
   "metadata": {},
   "outputs": [
    {
     "name": "stdout",
     "output_type": "stream",
     "text": [
      "4\n"
     ]
    }
   ],
   "source": []
  },
  {
   "cell_type": "code",
   "execution_count": null,
   "metadata": {},
   "outputs": [],
   "source": []
  }
 ],
 "metadata": {
  "kernelspec": {
   "display_name": "Python 3",
   "language": "python",
   "name": "python3"
  },
  "language_info": {
   "codemirror_mode": {
    "name": "ipython",
    "version": 3
   },
   "file_extension": ".py",
   "mimetype": "text/x-python",
   "name": "python",
   "nbconvert_exporter": "python",
   "pygments_lexer": "ipython3",
   "version": "3.7.7"
  }
 },
 "nbformat": 4,
 "nbformat_minor": 4
}
